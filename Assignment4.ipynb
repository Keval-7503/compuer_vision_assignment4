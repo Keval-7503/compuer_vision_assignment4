{
 "cells": [
  {
   "cell_type": "markdown",
   "metadata": {},
   "source": "# Assignment 4: Augmented Reality with PyTorch3D\n\n**Complete AR Pipeline Implementation**"
  },
  {
   "cell_type": "markdown",
   "metadata": {},
   "source": [
    "## Setup (Run Once)"
   ]
  },
  {
   "cell_type": "code",
   "execution_count": null,
   "metadata": {},
   "outputs": [],
   "source": "# Setup - Clear cache and install dependencies\n!rm -rf compuer_vision_assignment4\n!git clone https://github.com/Keval-7503/compuer_vision_assignment4.git\n%cd compuer_vision_assignment4\n!git pull\n!pip install -q torch torchvision fvcore iopath\n!pip install -q \"git+https://github.com/facebookresearch/pytorch3d.git\""
  },
  {
   "cell_type": "markdown",
   "metadata": {},
   "source": [
    "## Launch AR Pipeline"
   ]
  },
  {
   "cell_type": "code",
   "execution_count": null,
   "metadata": {},
   "outputs": [],
   "source": "# Launch AR Pipeline\nfrom run_ar_pipeline import run_ar_pipeline\nresult = run_ar_pipeline()"
  },
  {
   "cell_type": "markdown",
   "metadata": {},
   "source": "---\n\n**Pipeline complete!** Results saved to `results/` folder.\n\nAll AR processing happens in the backend code (`src/` folder)."
  }
 ],
 "metadata": {
  "kernelspec": {
   "display_name": "Python 3",
   "language": "python",
   "name": "python3"
  },
  "language_info": {
   "name": "python",
   "version": "3.10.0"
  }
 },
 "nbformat": 4,
 "nbformat_minor": 4
}