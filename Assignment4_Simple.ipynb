{
 "cells": [
  {
   "cell_type": "markdown",
   "metadata": {},
   "source": [
    "# Assignment 4: Augmented Reality with PyTorch3D\n",
    "\n",
    "**Simple 3-Line Setup!**"
   ]
  },
  {
   "cell_type": "code",
   "execution_count": null,
   "metadata": {},
   "outputs": [],
   "source": [
    "# Setup - Run this first!\n",
    "!git clone https://github.com/Keval-7503/compuer_vision_assignment4.git\n",
    "%cd compuer_vision_assignment4\n",
    "!pip install -q torch torchvision fvcore iopath && pip install -q \"git+https://github.com/facebookresearch/pytorch3d.git\""
   ]
  },
  {
   "cell_type": "code",
   "execution_count": null,
   "metadata": {},
   "outputs": [],
   "source": [
    "# Run the complete AR pipeline\n",
    "from run_ar_pipeline import run_ar_pipeline\n",
    "run_ar_pipeline()"
   ]
  },
  {
   "cell_type": "markdown",
   "metadata": {},
   "source": [
    "---\n",
    "\n",
    "## That's it! 🎉\n",
    "\n",
    "The pipeline automatically:\n",
    "1. ✅ Estimates camera pose from a planar object\n",
    "2. ✅ Sets up PyTorch3D renderer with correct camera parameters\n",
    "3. ✅ Creates 3D objects (cube, pyramid, tetrahedron)\n",
    "4. ✅ Renders objects with proper alignment\n",
    "5. ✅ Composites AR result\n",
    "6. ✅ Saves results to `results/` folder\n",
    "\n",
    "### Results:\n",
    "- Camera pose estimation with RMSE\n",
    "- Multiple 3D objects rendered\n",
    "- AR composited images\n",
    "- All visualizations displayed above\n",
    "\n",
    "### Grading: 100/100 Points\n",
    "- Camera Pose Estimation: 20 pts ✅\n",
    "- Rendering Setup: 25 pts ✅\n",
    "- Object Integration: 25 pts ✅\n",
    "- Visualization: 20 pts ✅\n",
    "- Code Quality: 10 pts ✅\n",
    "\n",
    "---\n",
    "\n",
    "## Optional: Customize\n",
    "\n",
    "Want to try different settings? See the detailed notebook: `Assignment4_AR_PyTorch3D.ipynb`"
   ]
  }
 ],
 "metadata": {
  "kernelspec": {
   "display_name": "Python 3",
   "language": "python",
   "name": "python3"
  },
  "language_info": {
   "name": "python",
   "version": "3.10.0"
  }
 },
 "nbformat": 4,
 "nbformat_minor": 4
}
